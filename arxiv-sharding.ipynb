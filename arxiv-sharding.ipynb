{
 "cells": [
  {
   "cell_type": "code",
   "execution_count": null,
   "metadata": {},
   "outputs": [],
   "source": [
    "import pandas as pd\n",
    "import os\n",
    "import sys\n",
    "import ray\n",
    "import glob\n",
    "import random\n",
    "import webdataset as wds"
   ]
  },
  {
   "cell_type": "code",
   "execution_count": null,
   "metadata": {},
   "outputs": [],
   "source": [
    "files = glob.glob(\"/work/arxiv-papers/pdf/*.pdf\")\n",
    "random.shuffle(files)\n",
    "len(files)"
   ]
  },
  {
   "cell_type": "code",
   "execution_count": null,
   "metadata": {},
   "outputs": [],
   "source": [
    "help(wds.ShardWriter)"
   ]
  },
  {
   "cell_type": "code",
   "execution_count": null,
   "metadata": {},
   "outputs": [],
   "source": [
    "def upload(fname):\n",
    "    print(f\"uploading: {fname}\")\n",
    "    assert os.system(f\"gsutil -m cp {fname} gs://ocro-arxiv/pdfs/\") == 0\n",
    "    os.remove(fname)"
   ]
  },
  {
   "cell_type": "code",
   "execution_count": null,
   "metadata": {},
   "outputs": [],
   "source": [
    "writer = wds.ShardWriter(\"arxiv-pdfs-%06d.tar\", maxsize=1e9, maxcount=100, post=upload)\n",
    "for fname in files:\n",
    "    base = fname.split(\"/\")[-1]\n",
    "    prefix, suffix = base.rsplit(\".\", 1)\n",
    "    with open(fname, \"rb\") as stream:\n",
    "        data = stream.read()\n",
    "    assert suffix == \"pdf\"\n",
    "    writer.write({\n",
    "        \"__key__\": prefix,\n",
    "        \"pdf\": data\n",
    "    })\n",
    "writer.close()\n"
   ]
  },
  {
   "cell_type": "code",
   "execution_count": null,
   "metadata": {},
   "outputs": [],
   "source": []
  }
 ],
 "metadata": {
  "kernelspec": {
   "display_name": "venv",
   "language": "python",
   "name": "python3"
  },
  "language_info": {
   "codemirror_mode": {
    "name": "ipython",
    "version": 3
   },
   "file_extension": ".py",
   "mimetype": "text/x-python",
   "name": "python",
   "nbconvert_exporter": "python",
   "pygments_lexer": "ipython3",
   "version": "3.10.6"
  },
  "orig_nbformat": 4
 },
 "nbformat": 4,
 "nbformat_minor": 2
}
