{
 "cells": [
  {
   "cell_type": "code",
   "execution_count": 1,
   "metadata": {},
   "outputs": [],
   "source": [
    "import math\n",
    "import webdataset as wds\n",
    "import scipy.ndimage as ndi\n",
    "import numpy as np\n",
    "import matplotlib.pyplot as plt\n",
    "from itertools import islice\n",
    "import ray\n",
    "from ray.data import Dataset\n",
    "import braceexpand\n",
    "import requests\n",
    "import random\n",
    "import json\n",
    "import os\n",
    "import torch\n",
    "import sys\n",
    "\n",
    "if \"GOOGLE_APPLICATION_CREDENTIALS\" in os.environ:\n",
    "    del os.environ[\"GOOGLE_APPLICATION_CREDENTIALS\"]\n",
    "\n",
    "# ray.init()"
   ]
  },
  {
   "cell_type": "code",
   "execution_count": null,
   "metadata": {},
   "outputs": [],
   "source": [
    "source = list(braceexpand.braceexpand(\"gs://ocro-arxiv/pages/arxiv-pages-{000000..001038}.tar\"))\n",
    "destination = \"gs://ocro-tempout/shuffled\"\n",
    "\n",
    "!gsutil -m rm gs://ocro-tempout/shuffled/*.tar\n",
    "def run(cmd):\n",
    "    print(\"#\", cmd, file=sys.stderr)\n",
    "    assert os.system(cmd) == 0\n",
    "def print_sample(sample):\n",
    "    for k, v in sample.items():\n",
    "        print(k, type(v), repr(v)[:50])\n",
    "ds = wds.WebDataset(source, handler=wds.ignore_and_continue)\n",
    "dl = wds.WebLoader(ds, num_workers=16, batch_size=None).shuffle(20000)\n",
    "def upload(fname):\n",
    "    run(f\"sync; sleep 1; gsutil --quiet -m cp {fname} {destination}/{fname}\")\n",
    "    os.unlink(fname)\n",
    "sink = wds.ShardWriter(\"arxiv-shuffled-%06d.tar\", maxcount=1000, maxsize=500e6, post=upload, encoder=None)\n",
    "for i, sample in enumerate(dl):\n",
    "    if i % 1000 == 0:\n",
    "        print(i)\n",
    "    sink.write(sample)\n",
    "sink.close()"
   ]
  },
  {
   "cell_type": "code",
   "execution_count": null,
   "metadata": {},
   "outputs": [],
   "source": [
    "#! gsutil -m cp gs://ocro-tempout/shuffled/arxiv-shuffled-*.tar gs://ocro-arxiv/shuffled/"
   ]
  },
  {
   "cell_type": "code",
   "execution_count": null,
   "metadata": {},
   "outputs": [],
   "source": [
    "shards = os.popen(\"gsutil ls gs://ocro-tempout/shuffled\").readlines()\n",
    "shards = [s.strip() for s in shards]\n",
    "shards = [s for s in shards if s.endswith(\".tar\")]\n",
    "allshards = braceexpand.braceexpand(\"gs://ocro-tempout/shuffled/arxiv-shuffled-{000000..007423}.tar\")\n",
    "set(allshards) - set(shards)"
   ]
  },
  {
   "cell_type": "code",
   "execution_count": 6,
   "metadata": {},
   "outputs": [
    {
     "data": {
      "text/plain": [
       "set()"
      ]
     },
     "execution_count": 6,
     "metadata": {},
     "output_type": "execute_result"
    }
   ],
   "source": [
    "shards = os.popen(\"gsutil ls gs://ocro-arxiv/shuffled\").readlines()\n",
    "shards = [s.strip() for s in shards]\n",
    "shards = [s for s in shards if s.endswith(\".tar\")]\n",
    "allshards = braceexpand.braceexpand(\"gs://ocro-arxiv/shuffled/arxiv-shuffled-{000000..007423}.tar\")\n",
    "set(allshards) - set(shards)"
   ]
  },
  {
   "cell_type": "code",
   "execution_count": null,
   "metadata": {},
   "outputs": [],
   "source": []
  }
 ],
 "metadata": {
  "kernelspec": {
   "display_name": "venv",
   "language": "python",
   "name": "python3"
  },
  "language_info": {
   "codemirror_mode": {
    "name": "ipython",
    "version": 3
   },
   "file_extension": ".py",
   "mimetype": "text/x-python",
   "name": "python",
   "nbconvert_exporter": "python",
   "pygments_lexer": "ipython3",
   "version": "3.10.6"
  },
  "orig_nbformat": 4
 },
 "nbformat": 4,
 "nbformat_minor": 2
}
